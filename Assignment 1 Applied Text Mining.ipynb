{
 "cells": [
  {
   "cell_type": "markdown",
   "metadata": {},
   "source": [
    "---\n",
    "\n",
    "_You are currently looking at **version 1.1** of this notebook. To download notebooks and datafiles, as well as get help on Jupyter notebooks in the Coursera platform, visit the [Jupyter Notebook FAQ](https://www.coursera.org/learn/python-text-mining/resources/d9pwm) course resource._\n",
    "\n",
    "---"
   ]
  },
  {
   "cell_type": "markdown",
   "metadata": {},
   "source": [
    "# Assignment 1\n",
    "\n",
    "In this assignment, you'll be working with messy medical data and using regex to extract relevant infromation from the data. \n",
    "\n",
    "Each line of the `dates.txt` file corresponds to a medical note. Each note has a date that needs to be extracted, but each date is encoded in one of many formats.\n",
    "\n",
    "The goal of this assignment is to correctly identify all of the different date variants encoded in this dataset and to properly normalize and sort the dates. \n",
    "\n",
    "Here is a list of some of the variants you might encounter in this dataset:\n",
    "* 04/20/2009; 04/20/09; 4/20/09; 4/3/09\n",
    "* Mar-20-2009; Mar 20, 2009; March 20, 2009;  Mar. 20, 2009; Mar 20 2009;\n",
    "* 20 Mar 2009; 20 March 2009; 20 Mar. 2009; 20 March, 2009\n",
    "* Mar 20th, 2009; Mar 21st, 2009; Mar 22nd, 2009\n",
    "* Feb 2009; Sep 2009; Oct 2010\n",
    "* 6/2008; 12/2009\n",
    "* 2009; 2010\n",
    "\n",
    "Once you have extracted these date patterns from the text, the next step is to sort them in ascending chronological order accoring to the following rules:\n",
    "* Assume all dates in xx/xx/xx format are mm/dd/yy\n",
    "* Assume all dates where year is encoded in only two digits are years from the 1900's (e.g. 1/5/89 is January 5th, 1989)\n",
    "* If the day is missing (e.g. 9/2009), assume it is the first day of the month (e.g. September 1, 2009).\n",
    "* If the month is missing (e.g. 2010), assume it is the first of January of that year (e.g. January 1, 2010).\n",
    "* Watch out for potential typos as this is a raw, real-life derived dataset.\n",
    "\n",
    "With these rules in mind, find the correct date in each note and return a pandas Series in chronological order of the original Series' indices.\n",
    "\n",
    "For example if the original series was this:\n",
    "\n",
    "    0    1999\n",
    "    1    2010\n",
    "    2    1978\n",
    "    3    2015\n",
    "    4    1985\n",
    "\n",
    "Your function should return this:\n",
    "\n",
    "    0    2\n",
    "    1    4\n",
    "    2    0\n",
    "    3    1\n",
    "    4    3\n",
    "\n",
    "Your score will be calculated using [Kendall's tau](https://en.wikipedia.org/wiki/Kendall_rank_correlation_coefficient), a correlation measure for ordinal data.\n",
    "\n",
    "*This function should return a Series of length 500 and dtype int.*"
   ]
  },
  {
   "cell_type": "code",
   "execution_count": 253,
   "metadata": {},
   "outputs": [],
   "source": [
    "import pandas as pd\n",
    "import re\n",
    "doc = []\n",
    "with open('dates.txt') as file:\n",
    "    for line in file:\n",
    "        doc.append(line)\n",
    "\n",
    "fd = pd.Series(doc)"
   ]
  },
  {
   "cell_type": "code",
   "execution_count": 254,
   "metadata": {
    "collapsed": true
   },
   "outputs": [],
   "source": [
    "from dateutil import parser\n",
    "import datetime\n",
    "def check2(string):\n",
    "    if re.findall(r'(?:\\d{1,2} )?(?:Jan|Feb|Mar|Apr|May|Ju|Jul|Aug|Sep|Oct|Nov|Dec)[a-z,.-]* (?:\\d{1,2}[-/th|st|nd|rd)\\s,]* )?\\d{4}',string )!=[]:\n",
    "        return re.findall(r'(?:\\d{1,2} )?(?:Jan|Feb|Mar|Apr|May|Ju|Jul|Aug|Sep|Oct|Nov|Dec)[a-z,.-]* (?:\\d{1,2}[-/th|st|nd|rd)\\s,]* )?\\d{4}',string)\n",
    "    elif re.findall(r'\\d{1,2}[/-]\\d{1,2}[/-]\\d{2,4}', string)!=[]:\n",
    "        return re.findall(r'\\d{1,2}[/-]\\d{1,2}[/-]\\d{2,4}', string)\n",
    "    elif re.findall(r'\\d{1,2}[/-]\\d{2,4}', string)!=[]:\n",
    "        return re.findall(r'\\d{1,2}[/-]\\d{2,4}', string)\n",
    "    elif re.findall(r'\\d{4}', string)!=[]:\n",
    "        return re.findall(r'\\d{4}', string)\n",
    "    else:\n",
    "        return string\n",
    "    \n",
    "def conv(string2):\n",
    "    try:\n",
    "        date = parser.parse(string2, default=datetime.datetime(1900, 1, 1))\n",
    "        return date\n",
    "    except ValueError:\n",
    "        return None"
   ]
  },
  {
   "cell_type": "code",
   "execution_count": 251,
   "metadata": {
    "collapsed": true
   },
   "outputs": [],
   "source": [
    "def date_sorter():\n",
    "    df = pd.DataFrame(fd)\n",
    "    df['dates']=pd.Series([i[0] for i in df[0].apply(check2)])\n",
    "    numeric = df['dates'].copy().loc[:124]\n",
    "    alphaNumeric = df['dates'].copy().loc[125:342]\n",
    "    remaining = df['dates'].copy().loc[343:]\n",
    "    new = pd.DataFrame()\n",
    "    new['original'] = numeric\n",
    "    new['parsed'] = new['original'].apply(conv)\n",
    "    new3 = pd.DataFrame()\n",
    "    new3['original'] = remaining\n",
    "    new3['parsed'] = remaining.apply(conv)\n",
    "    new2 = pd.DataFrame()\n",
    "    new2['original'] = alphaNumeric\n",
    "    new2['parsed'] = alphaNumeric.apply(conv)\n",
    "    # 298 -Janaury 1993\n",
    "    # 313 -Decemeber 1978\n",
    "    new2.at[298, 'parsed'] = '1993-01-01'\n",
    "    new2.at[313, 'parsed'] = '1978-12-01'\n",
    "    df_concat = pd.concat([new, new2,new3],ignore_index=True)\n",
    "    return pd.Series(df_concat.sort_values(by='parsed').index, dtype=\"int32\")"
   ]
  }
 ],
 "metadata": {
  "coursera": {
   "course_slug": "python-text-mining",
   "graded_item_id": "LvcWI",
   "launcher_item_id": "krne9",
   "part_id": "Mkp1I"
  },
  "kernelspec": {
   "display_name": "Python 3",
   "language": "python",
   "name": "python3"
  },
  "language_info": {
   "codemirror_mode": {
    "name": "ipython",
    "version": 3
   },
   "file_extension": ".py",
   "mimetype": "text/x-python",
   "name": "python",
   "nbconvert_exporter": "python",
   "pygments_lexer": "ipython3",
   "version": "3.7.6"
  }
 },
 "nbformat": 4,
 "nbformat_minor": 2
}
